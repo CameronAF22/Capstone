{
 "cells": [
  {
   "cell_type": "markdown",
   "id": "1e036e51",
   "metadata": {},
   "source": [
    "# Universal Automated Tutor\n",
    "\n",
    "Given a set of training questions, create a generalizable tutor that should infer a student’s understanding of underlying concepts based on their past performance on previous questions and choose the next training question which will optimize the student’s progression toward proficiency. "
   ]
  },
  {
   "cell_type": "markdown",
   "id": "63261523",
   "metadata": {},
   "source": [
    "# 1. The Data"
   ]
  },
  {
   "cell_type": "code",
   "execution_count": 51,
   "id": "cb189af7",
   "metadata": {},
   "outputs": [],
   "source": [
    "from modelBuilder import importData\n",
    "data, pairs = importData()"
   ]
  },
  {
   "cell_type": "code",
   "execution_count": 52,
   "id": "34b0a08a",
   "metadata": {},
   "outputs": [
    {
     "data": {
      "text/html": [
       "<div>\n",
       "<style scoped>\n",
       "    .dataframe tbody tr th:only-of-type {\n",
       "        vertical-align: middle;\n",
       "    }\n",
       "\n",
       "    .dataframe tbody tr th {\n",
       "        vertical-align: top;\n",
       "    }\n",
       "\n",
       "    .dataframe thead th {\n",
       "        text-align: right;\n",
       "    }\n",
       "</style>\n",
       "<table border=\"1\" class=\"dataframe\">\n",
       "  <thead>\n",
       "    <tr style=\"text-align: right;\">\n",
       "      <th></th>\n",
       "      <th>stud_id</th>\n",
       "      <th>duration</th>\n",
       "      <th>student_response_type</th>\n",
       "      <th>problem_id</th>\n",
       "      <th>step</th>\n",
       "      <th>attempt_num</th>\n",
       "      <th>last_attempt</th>\n",
       "      <th>outcome</th>\n",
       "      <th>input</th>\n",
       "      <th>feedback</th>\n",
       "      <th>hint</th>\n",
       "      <th>correct</th>\n",
       "      <th>incorrect</th>\n",
       "    </tr>\n",
       "  </thead>\n",
       "  <tbody>\n",
       "    <tr>\n",
       "      <th>0</th>\n",
       "      <td>Stu_0012ae7d5d1993619f0bad91630b7c79</td>\n",
       "      <td>576.0</td>\n",
       "      <td>HINT_REQUEST</td>\n",
       "      <td>13603</td>\n",
       "      <td>Step0:8788:Lines m and n are parallel, what is...</td>\n",
       "      <td>1.0</td>\n",
       "      <td>1.0</td>\n",
       "      <td>HINT</td>\n",
       "      <td>NaN</td>\n",
       "      <td>System displays first scaffold</td>\n",
       "      <td>1</td>\n",
       "      <td>0</td>\n",
       "      <td>0</td>\n",
       "    </tr>\n",
       "    <tr>\n",
       "      <th>1</th>\n",
       "      <td>Stu_0012ae7d5d1993619f0bad91630b7c79</td>\n",
       "      <td>75.0</td>\n",
       "      <td>HINT_REQUEST</td>\n",
       "      <td>13603</td>\n",
       "      <td>Step1:8792:What is the measure of angle 2? SYSTEM</td>\n",
       "      <td>1.0</td>\n",
       "      <td>0.0</td>\n",
       "      <td>HINT</td>\n",
       "      <td>NaN</td>\n",
       "      <td>Lines m and n are parallel and intersected by ...</td>\n",
       "      <td>1</td>\n",
       "      <td>0</td>\n",
       "      <td>0</td>\n",
       "    </tr>\n",
       "    <tr>\n",
       "      <th>2</th>\n",
       "      <td>Stu_0012ae7d5d1993619f0bad91630b7c79</td>\n",
       "      <td>37.0</td>\n",
       "      <td>ATTEMPT</td>\n",
       "      <td>13603</td>\n",
       "      <td>Step1:8792:What is the measure of angle 2? SYSTEM</td>\n",
       "      <td>2.0</td>\n",
       "      <td>1.0</td>\n",
       "      <td>INCORRECT</td>\n",
       "      <td>55</td>\n",
       "      <td>That is not correct. Try again.</td>\n",
       "      <td>0</td>\n",
       "      <td>0</td>\n",
       "      <td>1</td>\n",
       "    </tr>\n",
       "    <tr>\n",
       "      <th>3</th>\n",
       "      <td>Stu_0012ae7d5d1993619f0bad91630b7c79</td>\n",
       "      <td>166.0</td>\n",
       "      <td>ATTEMPT</td>\n",
       "      <td>13450</td>\n",
       "      <td>Step0:8635:Jacqueline is a runner who hopes to...</td>\n",
       "      <td>1.0</td>\n",
       "      <td>1.0</td>\n",
       "      <td>CORRECT</td>\n",
       "      <td>9 miles</td>\n",
       "      <td>NaN</td>\n",
       "      <td>0</td>\n",
       "      <td>1</td>\n",
       "      <td>0</td>\n",
       "    </tr>\n",
       "    <tr>\n",
       "      <th>4</th>\n",
       "      <td>Stu_00176143fc2991346939888160a9b1ce</td>\n",
       "      <td>14.0</td>\n",
       "      <td>HINT_REQUEST</td>\n",
       "      <td>12489</td>\n",
       "      <td>Step0:7674:Lee correctly answered 26 out of 51...</td>\n",
       "      <td>1.0</td>\n",
       "      <td>1.0</td>\n",
       "      <td>HINT</td>\n",
       "      <td>NaN</td>\n",
       "      <td>System displays first scaffold</td>\n",
       "      <td>1</td>\n",
       "      <td>0</td>\n",
       "      <td>0</td>\n",
       "    </tr>\n",
       "  </tbody>\n",
       "</table>\n",
       "</div>"
      ],
      "text/plain": [
       "                                stud_id  duration student_response_type  \\\n",
       "0  Stu_0012ae7d5d1993619f0bad91630b7c79     576.0          HINT_REQUEST   \n",
       "1  Stu_0012ae7d5d1993619f0bad91630b7c79      75.0          HINT_REQUEST   \n",
       "2  Stu_0012ae7d5d1993619f0bad91630b7c79      37.0               ATTEMPT   \n",
       "3  Stu_0012ae7d5d1993619f0bad91630b7c79     166.0               ATTEMPT   \n",
       "4  Stu_00176143fc2991346939888160a9b1ce      14.0          HINT_REQUEST   \n",
       "\n",
       "   problem_id                                               step  attempt_num  \\\n",
       "0       13603  Step0:8788:Lines m and n are parallel, what is...          1.0   \n",
       "1       13603  Step1:8792:What is the measure of angle 2? SYSTEM          1.0   \n",
       "2       13603  Step1:8792:What is the measure of angle 2? SYSTEM          2.0   \n",
       "3       13450  Step0:8635:Jacqueline is a runner who hopes to...          1.0   \n",
       "4       12489  Step0:7674:Lee correctly answered 26 out of 51...          1.0   \n",
       "\n",
       "   last_attempt    outcome    input  \\\n",
       "0           1.0       HINT      NaN   \n",
       "1           0.0       HINT      NaN   \n",
       "2           1.0  INCORRECT       55   \n",
       "3           1.0    CORRECT  9 miles   \n",
       "4           1.0       HINT      NaN   \n",
       "\n",
       "                                            feedback  hint  correct  incorrect  \n",
       "0                     System displays first scaffold     1        0          0  \n",
       "1  Lines m and n are parallel and intersected by ...     1        0          0  \n",
       "2                    That is not correct. Try again.     0        0          1  \n",
       "3                                                NaN     0        1          0  \n",
       "4                     System displays first scaffold     1        0          0  "
      ]
     },
     "execution_count": 52,
     "metadata": {},
     "output_type": "execute_result"
    }
   ],
   "source": [
    "data.head()"
   ]
  },
  {
   "cell_type": "markdown",
   "id": "3ed96077",
   "metadata": {},
   "source": [
    "# 2. Distributions"
   ]
  },
  {
   "cell_type": "markdown",
   "id": "26523373",
   "metadata": {},
   "source": [
    "Explanation of how you are building distributions using ALL of the data from our students. Include picture for chi-sq distribution"
   ]
  },
  {
   "cell_type": "code",
   "execution_count": 4,
   "id": "c9a1ce7e",
   "metadata": {},
   "outputs": [],
   "source": [
    "from modelBuilder import distributionBuilder\n",
    "distributions = distributionBuilder(data)"
   ]
  },
  {
   "cell_type": "code",
   "execution_count": 5,
   "id": "17f846d9",
   "metadata": {},
   "outputs": [
    {
     "data": {
      "text/html": [
       "<div>\n",
       "<style scoped>\n",
       "    .dataframe tbody tr th:only-of-type {\n",
       "        vertical-align: middle;\n",
       "    }\n",
       "\n",
       "    .dataframe tbody tr th {\n",
       "        vertical-align: top;\n",
       "    }\n",
       "\n",
       "    .dataframe thead th {\n",
       "        text-align: right;\n",
       "    }\n",
       "</style>\n",
       "<table border=\"1\" class=\"dataframe\">\n",
       "  <thead>\n",
       "    <tr style=\"text-align: right;\">\n",
       "      <th></th>\n",
       "      <th>durationLower</th>\n",
       "      <th>hintLower</th>\n",
       "      <th>incorrectLower</th>\n",
       "      <th>durationUpper</th>\n",
       "      <th>hintUpper</th>\n",
       "      <th>incorrectUpper</th>\n",
       "    </tr>\n",
       "    <tr>\n",
       "      <th>problem_id</th>\n",
       "      <th></th>\n",
       "      <th></th>\n",
       "      <th></th>\n",
       "      <th></th>\n",
       "      <th></th>\n",
       "      <th></th>\n",
       "    </tr>\n",
       "  </thead>\n",
       "  <tbody>\n",
       "    <tr>\n",
       "      <th>7</th>\n",
       "      <td>266.446968</td>\n",
       "      <td>4.718327</td>\n",
       "      <td>1.997720</td>\n",
       "      <td>522.125296</td>\n",
       "      <td>8.794116</td>\n",
       "      <td>4.312253</td>\n",
       "    </tr>\n",
       "    <tr>\n",
       "      <th>12</th>\n",
       "      <td>98.950352</td>\n",
       "      <td>1.373719</td>\n",
       "      <td>1.300298</td>\n",
       "      <td>253.682629</td>\n",
       "      <td>5.835896</td>\n",
       "      <td>3.399405</td>\n",
       "    </tr>\n",
       "    <tr>\n",
       "      <th>21</th>\n",
       "      <td>42.653503</td>\n",
       "      <td>0.101037</td>\n",
       "      <td>0.605915</td>\n",
       "      <td>93.110577</td>\n",
       "      <td>0.786937</td>\n",
       "      <td>1.557401</td>\n",
       "    </tr>\n",
       "    <tr>\n",
       "      <th>22</th>\n",
       "      <td>188.791350</td>\n",
       "      <td>1.545082</td>\n",
       "      <td>1.131963</td>\n",
       "      <td>321.094223</td>\n",
       "      <td>3.740606</td>\n",
       "      <td>2.951458</td>\n",
       "    </tr>\n",
       "    <tr>\n",
       "      <th>26</th>\n",
       "      <td>86.887437</td>\n",
       "      <td>0.742887</td>\n",
       "      <td>0.515258</td>\n",
       "      <td>188.347077</td>\n",
       "      <td>3.050812</td>\n",
       "      <td>1.530460</td>\n",
       "    </tr>\n",
       "  </tbody>\n",
       "</table>\n",
       "</div>"
      ],
      "text/plain": [
       "            durationLower  hintLower  incorrectLower  durationUpper  \\\n",
       "problem_id                                                            \n",
       "7              266.446968   4.718327        1.997720     522.125296   \n",
       "12              98.950352   1.373719        1.300298     253.682629   \n",
       "21              42.653503   0.101037        0.605915      93.110577   \n",
       "22             188.791350   1.545082        1.131963     321.094223   \n",
       "26              86.887437   0.742887        0.515258     188.347077   \n",
       "\n",
       "            hintUpper  incorrectUpper  \n",
       "problem_id                             \n",
       "7            8.794116        4.312253  \n",
       "12           5.835896        3.399405  \n",
       "21           0.786937        1.557401  \n",
       "22           3.740606        2.951458  \n",
       "26           3.050812        1.530460  "
      ]
     },
     "execution_count": 5,
     "metadata": {},
     "output_type": "execute_result"
    }
   ],
   "source": [
    "distributions.head()"
   ]
  },
  {
   "cell_type": "markdown",
   "id": "2608eab6",
   "metadata": {},
   "source": [
    "# 3. The Student"
   ]
  },
  {
   "cell_type": "markdown",
   "id": "dc10e7f3",
   "metadata": {},
   "source": [
    "Next we create a Student object which stores information about the average number of incorrect answers per question, the average number of hints taken, and the average duration per problem, and a function to determine the next question based on their given averages. Everyone who uses the tutor will be their own instance of a student object."
   ]
  },
  {
   "cell_type": "code",
   "execution_count": 59,
   "id": "0e9fdcfe",
   "metadata": {},
   "outputs": [],
   "source": [
    "from student import Student\n",
    "from modelBuilder import getStudentData\n",
    "\n",
    "studentData = getStudentData(data)\n",
    "student = Student(studentData)\n",
    "student.nextQ(data, pairs, distributions)"
   ]
  },
  {
   "cell_type": "markdown",
   "id": "d4b6a93c",
   "metadata": {},
   "source": [
    "Based on the distribution above, and the student's average duration, number of hints, and number of incorrect, the student is assigned a problem."
   ]
  },
  {
   "cell_type": "code",
   "execution_count": 62,
   "id": "2d2d6758",
   "metadata": {},
   "outputs": [
    {
     "data": {
      "text/plain": [
       "'Which of the following measurements would most likely be given with a negative exponent in scientific notation?'"
      ]
     },
     "execution_count": 62,
     "metadata": {},
     "output_type": "execute_result"
    }
   ],
   "source": [
    "student.problem"
   ]
  },
  {
   "cell_type": "code",
   "execution_count": 63,
   "id": "082e608d",
   "metadata": {},
   "outputs": [
    {
     "data": {
      "text/plain": [
       "'small'"
      ]
     },
     "execution_count": 63,
     "metadata": {},
     "output_type": "execute_result"
    }
   ],
   "source": [
    "student.answer"
   ]
  },
  {
   "cell_type": "markdown",
   "id": "7e2ad788",
   "metadata": {},
   "source": [
    "# 4. Running the Model\n",
    "The function model.initialize() runs through all the code above to return the student object, the original dat, the question-answer pairs, and the distributions."
   ]
  },
  {
   "cell_type": "code",
   "execution_count": null,
   "id": "c07c7415",
   "metadata": {},
   "outputs": [],
   "source": [
    "student, originalData, QApairs, distributions = model.initialize()"
   ]
  },
  {
   "cell_type": "markdown",
   "id": "548bdb28",
   "metadata": {},
   "source": [
    "With this information, the GUI is ready to boot up."
   ]
  },
  {
   "cell_type": "markdown",
   "id": "a576d61e",
   "metadata": {},
   "source": [
    "Each question takes a certain duration and has a specific outcome: hint, incorrect, correct. Thus each question from start to finish (once correct) generates a dataframe like this,"
   ]
  },
  {
   "attachments": {
    "image.png": {
     "image/png": "[encoded data removed]"
    }
   },
   "cell_type": "markdown",
   "id": "e43db79f",
   "metadata": {},
   "source": [
    "![image.png](attachment:image.png)"
   ]
  },
  {
   "cell_type": "markdown",
   "id": "3ef93532",
   "metadata": {},
   "source": [
    "Once the result is correct (as shown above), the dataframe is passed to the student class function,"
   ]
  },
  {
   "cell_type": "code",
   "execution_count": 66,
   "id": "e3cd7393",
   "metadata": {},
   "outputs": [],
   "source": [
    "student.updateStudent(df)."
   ]
  },
  {
   "cell_type": "markdown",
   "id": "83674cbe",
   "metadata": {},
   "source": [
    "This recalculates the student's average question duration, # of hints, and # of incorrect. Since these averages changed, we once again call,"
   ]
  },
  {
   "cell_type": "code",
   "execution_count": null,
   "id": "a3bc6b99",
   "metadata": {},
   "outputs": [],
   "source": [
    "student.nextQ(data, pairs, distributions)"
   ]
  },
  {
   "cell_type": "markdown",
   "id": "bf80b333",
   "metadata": {},
   "source": [
    "which generates the next question from those in the zone of proximal development."
   ]
  }
 ],
 "metadata": {
  "kernelspec": {
   "display_name": "Python 3",
   "language": "python",
   "name": "python3"
  },
  "language_info": {
   "codemirror_mode": {
    "name": "ipython",
    "version": 3
   },
   "file_extension": ".py",
   "mimetype": "text/x-python",
   "name": "python",
   "nbconvert_exporter": "python",
   "pygments_lexer": "ipython3",
   "version": "3.8.10"
  }
 },
 "nbformat": 4,
 "nbformat_minor": 5
}
