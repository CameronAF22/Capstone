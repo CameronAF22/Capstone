{
 "cells": [
  {
   "cell_type": "code",
   "execution_count": 1,
   "id": "4469fccf",
   "metadata": {},
   "outputs": [],
   "source": [
    "import pandas as pd\n",
    "import numpy as np "
   ]
  },
  {
   "cell_type": "markdown",
   "id": "b9635e90",
   "metadata": {},
   "source": [
    "## Data Import + Cleaning"
   ]
  },
  {
   "cell_type": "code",
   "execution_count": 2,
   "id": "775d4def",
   "metadata": {},
   "outputs": [
    {
     "name": "stderr",
     "output_type": "stream",
     "text": [
      "C:\\Users\\C22Evan.Marrone\\Anaconda3\\lib\\site-packages\\IPython\\core\\interactiveshell.py:3165: DtypeWarning: Columns (6,53,55) have mixed types.Specify dtype option on import or set low_memory=False.\n",
      "  has_raised = await self.run_ast_nodes(code_ast.body, cell_name,\n",
      "C:\\Users\\C22Evan.Marrone\\Anaconda3\\lib\\site-packages\\IPython\\core\\interactiveshell.py:3165: DtypeWarning: Columns (59,61,63) have mixed types.Specify dtype option on import or set low_memory=False.\n",
      "  has_raised = await self.run_ast_nodes(code_ast.body, cell_name,\n",
      "C:\\Users\\C22Evan.Marrone\\Anaconda3\\lib\\site-packages\\pandas\\core\\indexing.py:1597: SettingWithCopyWarning: \n",
      "A value is trying to be set on a copy of a slice from a DataFrame.\n",
      "Try using .loc[row_indexer,col_indexer] = value instead\n",
      "\n",
      "See the caveats in the documentation: https://pandas.pydata.org/pandas-docs/stable/user_guide/indexing.html#returning-a-view-versus-a-copy\n",
      "  self.obj[key] = value\n",
      "C:\\Users\\C22Evan.Marrone\\Anaconda3\\lib\\site-packages\\pandas\\core\\indexing.py:1676: SettingWithCopyWarning: \n",
      "A value is trying to be set on a copy of a slice from a DataFrame.\n",
      "Try using .loc[row_indexer,col_indexer] = value instead\n",
      "\n",
      "See the caveats in the documentation: https://pandas.pydata.org/pandas-docs/stable/user_guide/indexing.html#returning-a-view-versus-a-copy\n",
      "  self._setitem_single_column(ilocs[0], value, pi)\n"
     ]
    }
   ],
   "source": [
    "raw_data04 = pd.read_csv(\"2004-WPI-Assistments-Math.csv\")\n",
    "raw_data056 = pd.read_csv(\"2005-06-WPI-Assistments-Math.csv\")\n",
    "raw_data = pd.concat([raw_data056,raw_data04])\n",
    "data = raw_data[[\"stud_id\",\"duration\",\"student_response_type\",\"problem_id\",\"step\",\"attempt_num\",\n",
    "             \"last_attempt\",\"outcome\",\"input\",\"feedback\"]]\n",
    "data.reset_index(drop=True, inplace=True)\n",
    "data.loc[:,\"hint\"] = np.where(data[\"outcome\"] == \"HINT\",1,0)\n",
    "data.loc[:,\"correct\"] = np.where(data[\"outcome\"] == \"CORRECT\",1,0)\n",
    "data.loc[:,\"incorrect\"] = np.where(data[\"outcome\"] == \"INCORRECT\",1,0)"
   ]
  },
  {
   "cell_type": "code",
   "execution_count": 3,
   "id": "590612b8",
   "metadata": {
    "scrolled": true
   },
   "outputs": [],
   "source": [
    "def chi2lower(x):\n",
    "    '''\n",
    "    Calculates the chi-squared distribution upper bound\n",
    "    '''\n",
    "    return np.mean(x) - np.std(x)/4\n",
    "\n",
    "\n",
    "def chi2upper(x):\n",
    "    return np.mean(x) + np.std(x)/2"
   ]
  },
  {
   "cell_type": "code",
   "execution_count": 4,
   "id": "655151af",
   "metadata": {},
   "outputs": [],
   "source": [
    "data = data[data[\"duration\"] != '.']\n",
    "data[\"duration\"] = data[\"duration\"].astype(np.float64)\n",
    "df = data[[\"problem_id\", \"duration\", \"hint\", \"stud_id\",\"incorrect\"]].groupby([\"problem_id\",\"stud_id\"]).sum()\n",
    "problemDistsLower = df.groupby([\"problem_id\"]).agg(chi2lower)\n",
    "problemDistsUpper = df.groupby([\"problem_id\"]).agg(chi2upper)\n",
    "problemDistsLower.rename(columns={'duration': 'durationLower', 'hint': 'hintLower', 'incorrect': 'incorrectLower'}, inplace=True)\n",
    "problemDistsUpper.rename(columns={'duration': 'durationUpper', 'hint': 'hintUpper', 'incorrect': 'incorrectUpper'}, inplace=True)\n",
    "problemDists = pd.concat([problemDistsLower, problemDistsUpper], axis=1)\n",
    "studentEV = df.groupby([\"stud_id\"]).mean()"
   ]
  },
  {
   "cell_type": "code",
   "execution_count": 5,
   "id": "68ba5ac4",
   "metadata": {},
   "outputs": [
    {
     "data": {
      "text/html": [
       "<div>\n",
       "<style scoped>\n",
       "    .dataframe tbody tr th:only-of-type {\n",
       "        vertical-align: middle;\n",
       "    }\n",
       "\n",
       "    .dataframe tbody tr th {\n",
       "        vertical-align: top;\n",
       "    }\n",
       "\n",
       "    .dataframe thead th {\n",
       "        text-align: right;\n",
       "    }\n",
       "</style>\n",
       "<table border=\"1\" class=\"dataframe\">\n",
       "  <thead>\n",
       "    <tr style=\"text-align: right;\">\n",
       "      <th></th>\n",
       "      <th>duration</th>\n",
       "      <th>hint</th>\n",
       "      <th>incorrect</th>\n",
       "    </tr>\n",
       "    <tr>\n",
       "      <th>stud_id</th>\n",
       "      <th></th>\n",
       "      <th></th>\n",
       "      <th></th>\n",
       "    </tr>\n",
       "  </thead>\n",
       "  <tbody>\n",
       "    <tr>\n",
       "      <th>Stu_0012ae7d5d1993619f0bad91630b7c79</th>\n",
       "      <td>427.000000</td>\n",
       "      <td>1.000000</td>\n",
       "      <td>0.500000</td>\n",
       "    </tr>\n",
       "    <tr>\n",
       "      <th>Stu_00176143fc2991346939888160a9b1ce</th>\n",
       "      <td>171.405405</td>\n",
       "      <td>0.945946</td>\n",
       "      <td>1.702703</td>\n",
       "    </tr>\n",
       "    <tr>\n",
       "      <th>Stu_001c92cd0ee0ea92a7ec2c5d027ab034</th>\n",
       "      <td>314.333333</td>\n",
       "      <td>0.000000</td>\n",
       "      <td>6.666667</td>\n",
       "    </tr>\n",
       "    <tr>\n",
       "      <th>Stu_001d187b1b375fe98b88696b250177f0</th>\n",
       "      <td>167.569608</td>\n",
       "      <td>2.696203</td>\n",
       "      <td>1.848101</td>\n",
       "    </tr>\n",
       "    <tr>\n",
       "      <th>Stu_00291360813ec3b3bc1133a40e2e7590</th>\n",
       "      <td>427.461538</td>\n",
       "      <td>1.461538</td>\n",
       "      <td>3.512821</td>\n",
       "    </tr>\n",
       "    <tr>\n",
       "      <th>...</th>\n",
       "      <td>...</td>\n",
       "      <td>...</td>\n",
       "      <td>...</td>\n",
       "    </tr>\n",
       "    <tr>\n",
       "      <th>Stu_ffbeb30c744d4c4db5352b708773eca4</th>\n",
       "      <td>408.000000</td>\n",
       "      <td>0.666667</td>\n",
       "      <td>1.666667</td>\n",
       "    </tr>\n",
       "    <tr>\n",
       "      <th>Stu_ffce1f362b212a39ef47c8303f33c69d</th>\n",
       "      <td>691.500000</td>\n",
       "      <td>5.000000</td>\n",
       "      <td>8.000000</td>\n",
       "    </tr>\n",
       "    <tr>\n",
       "      <th>Stu_ffdef7d1961079fb05dc295e8ab7592e</th>\n",
       "      <td>125.128571</td>\n",
       "      <td>1.328571</td>\n",
       "      <td>1.814286</td>\n",
       "    </tr>\n",
       "    <tr>\n",
       "      <th>Stu_ffdf43fb9857c337d0a484d80ad7c405</th>\n",
       "      <td>554.375000</td>\n",
       "      <td>1.000000</td>\n",
       "      <td>2.375000</td>\n",
       "    </tr>\n",
       "    <tr>\n",
       "      <th>Stu_fff5c8fc1e1e08cfd72a0e5122b547d4</th>\n",
       "      <td>139.720339</td>\n",
       "      <td>0.152542</td>\n",
       "      <td>1.576271</td>\n",
       "    </tr>\n",
       "  </tbody>\n",
       "</table>\n",
       "<p>4033 rows × 3 columns</p>\n",
       "</div>"
      ],
      "text/plain": [
       "                                        duration      hint  incorrect\n",
       "stud_id                                                              \n",
       "Stu_0012ae7d5d1993619f0bad91630b7c79  427.000000  1.000000   0.500000\n",
       "Stu_00176143fc2991346939888160a9b1ce  171.405405  0.945946   1.702703\n",
       "Stu_001c92cd0ee0ea92a7ec2c5d027ab034  314.333333  0.000000   6.666667\n",
       "Stu_001d187b1b375fe98b88696b250177f0  167.569608  2.696203   1.848101\n",
       "Stu_00291360813ec3b3bc1133a40e2e7590  427.461538  1.461538   3.512821\n",
       "...                                          ...       ...        ...\n",
       "Stu_ffbeb30c744d4c4db5352b708773eca4  408.000000  0.666667   1.666667\n",
       "Stu_ffce1f362b212a39ef47c8303f33c69d  691.500000  5.000000   8.000000\n",
       "Stu_ffdef7d1961079fb05dc295e8ab7592e  125.128571  1.328571   1.814286\n",
       "Stu_ffdf43fb9857c337d0a484d80ad7c405  554.375000  1.000000   2.375000\n",
       "Stu_fff5c8fc1e1e08cfd72a0e5122b547d4  139.720339  0.152542   1.576271\n",
       "\n",
       "[4033 rows x 3 columns]"
      ]
     },
     "execution_count": 5,
     "metadata": {},
     "output_type": "execute_result"
    }
   ],
   "source": [
    "#problemDists\n",
    "\n",
    "studentEV"
   ]
  },
  {
   "cell_type": "code",
   "execution_count": 6,
   "id": "f42d8322",
   "metadata": {},
   "outputs": [
    {
     "ename": "SyntaxError",
     "evalue": "invalid syntax (<ipython-input-6-015816214a1b>, line 11)",
     "output_type": "error",
     "traceback": [
      "\u001b[1;36m  File \u001b[1;32m\"<ipython-input-6-015816214a1b>\"\u001b[1;36m, line \u001b[1;32m11\u001b[0m\n\u001b[1;33m    def updateStudent(stud, lastQ)\u001b[0m\n\u001b[1;37m                                  ^\u001b[0m\n\u001b[1;31mSyntaxError\u001b[0m\u001b[1;31m:\u001b[0m invalid syntax\n"
     ]
    }
   ],
   "source": [
    "def nextQ(student):\n",
    "    # Determines a viable next question\n",
    "    student = updateStud(stud)\n",
    "    EVdur = studentEV.loc[stud].duration\n",
    "    EVinc = studentEV.loc[stud].incorrect\n",
    "    EVhint = studentEV.loc[stud].hint\n",
    "    viableProbs = problemDists[(problemDists[\"durationUpper\"] > EVdur)  & (problemDists[\"hintUpper\"] > EVhint) & (problemDists[\"incorrectLower\"] > EVinc)]\n",
    "    return viableProbs.index.values.tolist()\n",
    "\n",
    "\n",
    "def updateStudent(stud, lastQ)\n",
    "    # lastQ: dictionary object with\n",
    "    stud.append(lastQ)\n",
    "    df = data[[\"problem_id\", \"duration\", \"hint\", \"stud_id\",\"incorrect\"]].groupby([\"problem_id\"]).sum()\n",
    "    studentEV = df.groupby([\"stud_id\"]).mean()\n",
    "    \n",
    "\n",
    "    \n",
    "stud = \"Stu_00176143fc2991346939888160a9b1ce\"\n",
    "viableProbs = nextQ(stud)\n",
    "viableProbs "
   ]
  },
  {
   "cell_type": "code",
   "execution_count": null,
   "id": "9a956245",
   "metadata": {},
   "outputs": [],
   "source": [
    "# Main plan\n",
    "\n",
    "# studentData = Take in pretest data + updateStud(pretest response data)\n",
    "\n",
    "\n",
    "\n",
    "    "
   ]
  }
 ],
 "metadata": {
  "kernelspec": {
   "display_name": "Python 3",
   "language": "python",
   "name": "python3"
  },
  "language_info": {
   "codemirror_mode": {
    "name": "ipython",
    "version": 3
   },
   "file_extension": ".py",
   "mimetype": "text/x-python",
   "name": "python",
   "nbconvert_exporter": "python",
   "pygments_lexer": "ipython3",
   "version": "3.8.10"
  }
 },
 "nbformat": 4,
 "nbformat_minor": 5
}
