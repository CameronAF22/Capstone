{
 "cells": [
  {
   "cell_type": "markdown",
   "id": "53ec3e33",
   "metadata": {},
   "source": [
    "# Universal Automated Tutor"
   ]
  },
  {
   "cell_type": "markdown",
   "id": "b9635e90",
   "metadata": {},
   "source": [
    "## 0: Data Import + Cleaning"
   ]
  },
  {
   "cell_type": "code",
   "execution_count": 1,
   "id": "4469fccf",
   "metadata": {},
   "outputs": [],
   "source": [
    "import pandas as pd\n",
    "import numpy as np \n",
    "import random"
   ]
  },
  {
   "cell_type": "code",
   "execution_count": 2,
   "id": "775d4def",
   "metadata": {
    "scrolled": true
   },
   "outputs": [
    {
     "name": "stderr",
     "output_type": "stream",
     "text": [
      "C:\\Users\\C22Evan.Marrone\\Anaconda3\\lib\\site-packages\\pandas\\core\\indexing.py:1597: SettingWithCopyWarning: \n",
      "A value is trying to be set on a copy of a slice from a DataFrame.\n",
      "Try using .loc[row_indexer,col_indexer] = value instead\n",
      "\n",
      "See the caveats in the documentation: https://pandas.pydata.org/pandas-docs/stable/user_guide/indexing.html#returning-a-view-versus-a-copy\n",
      "  self.obj[key] = value\n",
      "C:\\Users\\C22Evan.Marrone\\Anaconda3\\lib\\site-packages\\pandas\\core\\indexing.py:1676: SettingWithCopyWarning: \n",
      "A value is trying to be set on a copy of a slice from a DataFrame.\n",
      "Try using .loc[row_indexer,col_indexer] = value instead\n",
      "\n",
      "See the caveats in the documentation: https://pandas.pydata.org/pandas-docs/stable/user_guide/indexing.html#returning-a-view-versus-a-copy\n",
      "  self._setitem_single_column(ilocs[0], value, pi)\n"
     ]
    }
   ],
   "source": [
    "# Read in the CSVs, select variables, combine\n",
    "raw_data04 = pd.read_csv(\"2004-WPI-Assistments-Math.csv\",low_memory=False)\n",
    "raw_data056 = pd.read_csv(\"2005-06-WPI-Assistments-Math.csv\",low_memory=False)\n",
    "raw_data = pd.concat([raw_data056,raw_data04])\n",
    "data = raw_data[[\"stud_id\",\"duration\",\"student_response_type\",\"problem_id\",\"step\",\"attempt_num\",\n",
    "             \"last_attempt\",\"outcome\",\"input\",\"feedback\"]]\n",
    "data.reset_index(drop=True, inplace=True)\n",
    "\n",
    "# Create dummy variables for hint, correct, incorrect\n",
    "data.loc[:,\"hint\"] = np.where(data[\"outcome\"] == \"HINT\",1,0)\n",
    "data.loc[:,\"correct\"] = np.where(data[\"outcome\"] == \"CORRECT\",1,0)\n",
    "data.loc[:,\"incorrect\"] = np.where(data[\"outcome\"] == \"INCORRECT\",1,0)\n",
    "\n",
    "# Filter + clean data\n",
    "data = data[data[\"duration\"] != '.']\n",
    "data[\"duration\"] = data[\"duration\"].astype(np.float64)"
   ]
  },
  {
   "cell_type": "markdown",
   "id": "d6a63ed2",
   "metadata": {},
   "source": [
    "## 1: Distribution Creation"
   ]
  },
  {
   "cell_type": "code",
   "execution_count": 3,
   "id": "590612b8",
   "metadata": {
    "scrolled": true
   },
   "outputs": [],
   "source": [
    "def chi2lower(x):\n",
    "    '''\n",
    "    Calculates the chi-squared distribution lower bound\n",
    "    '''\n",
    "    return np.mean(x) - np.std(x)/4\n",
    "\n",
    "\n",
    "def chi2upper(x):\n",
    "    '''\n",
    "    Calculates the chi-squared distribution upper bound\n",
    "    '''\n",
    "    return np.mean(x) + np.std(x)/2"
   ]
  },
  {
   "cell_type": "code",
   "execution_count": 4,
   "id": "655151af",
   "metadata": {},
   "outputs": [],
   "source": [
    "# manipulate to make problem distributions\n",
    "df = data[[\"problem_id\", \"duration\", \"hint\", \"stud_id\",\"incorrect\"]].groupby([\"problem_id\",\"stud_id\"]).sum()\n",
    "problemDistsLower = df.groupby([\"problem_id\"]).agg(chi2lower)\n",
    "problemDistsUpper = df.groupby([\"problem_id\"]).agg(chi2upper)\n",
    "problemDistsLower.rename(columns={'duration': 'durationLower', 'hint': 'hintLower', 'incorrect': 'incorrectLower'}, inplace=True)\n",
    "problemDistsUpper.rename(columns={'duration': 'durationUpper', 'hint': 'hintUpper', 'incorrect': 'incorrectUpper'}, inplace=True)\n",
    "problemDists = pd.concat([problemDistsLower, problemDistsUpper], axis=1)\n",
    "                                           \n",
    "# Create given student EVs\n",
    "studentEV = df.groupby([\"stud_id\"]).mean()"
   ]
  },
  {
   "cell_type": "markdown",
   "id": "0cc211f7",
   "metadata": {},
   "source": [
    "## 2: Student Class"
   ]
  },
  {
   "cell_type": "code",
   "execution_count": 5,
   "id": "9a956245",
   "metadata": {},
   "outputs": [],
   "source": [
    "class Student:\n",
    "    \n",
    "    def __init__(self, data):\n",
    "        self.data = data\n",
    "        self.means = 0\n",
    "        self.problem = \"\"\n",
    "\n",
    "        \n",
    "    def updateStudent(self, lastQ):\n",
    "        self.data = self.data.append(lastQ)\n",
    "        self.means = self.data.mean()\n",
    "\n",
    "        \n",
    "    def nextQ(self):\n",
    "        # Determines a viable next question\n",
    "        EVdur = self.means.duration\n",
    "        EVinc = self.means.incorrect\n",
    "        EVhint = self.means.hint\n",
    "        viableProbs = problemDists[(problemDists[\"durationUpper\"] > EVdur)  & (problemDists[\"hintUpper\"] > EVhint) & \\\n",
    "                                   (problemDists[\"incorrectLower\"] > EVinc)]\n",
    "        problemNum = random.choice(viableProbs.index.values.tolist())\n",
    "        self.problem = df[df[\"problem_id\"]==problemNum].iloc[0][0].split(':')[-1].split(\"?\")[0] + \"?\""
   ]
  },
  {
   "cell_type": "markdown",
   "id": "c60c485f",
   "metadata": {},
   "source": [
    "## 3: Example Run Through"
   ]
  },
  {
   "cell_type": "code",
   "execution_count": 9,
   "id": "f67ec004",
   "metadata": {},
   "outputs": [
    {
     "name": "stdout",
     "output_type": "stream",
     "text": [
      "How many units apart are -6 and 4 on the number line?\n"
     ]
    }
   ],
   "source": [
    "# Pseudo Code\n",
    "# studentData = Pretest data\n",
    "# Pretest data will include entries with \"step\", \"problem_id\", \"duration\", \"hint\", \"incorrect\", \"correct\"\n",
    "# student = Student(studentData)\n",
    "\n",
    "# Example\n",
    "stud = \"Stu_fe96fe63d83aa63c4ec667167fc7f1ce\"\n",
    "df = data[[\"step\", \"problem_id\", \"stud_id\",\"duration\", \"hint\", \"incorrect\", \"correct\"]]\n",
    "newdf = df[df[\"stud_id\"] == stud]\n",
    "studentData = newdf.iloc[0:10,:]\n",
    "\n",
    "# Initializing a student\n",
    "student = Student(studentData)\n",
    "\n",
    "# questionData represents their next action from the interface (we will be passed this)\n",
    "questionData = newdf.iloc[11:13,:]\n",
    "\n",
    "# If the person gets the problem right, then send the questionData to the student to update and choose next Q\n",
    "if questionData.correct.isin([1]).any():\n",
    "    student.updateStudent(questionData)\n",
    "    student.nextQ()\n",
    "\n",
    "# Question that is sent to the interface next:\n",
    "print(student.problem)"
   ]
  },
  {
   "cell_type": "markdown",
   "id": "38a790fc",
   "metadata": {},
   "source": [
    "# What is left to finish model?"
   ]
  },
  {
   "cell_type": "markdown",
   "id": "d8e4e953",
   "metadata": {},
   "source": [
    "- Need to find correct answers\n",
    "- Need to find images\n",
    "- Need to figure out how to get through steps\n",
    "- Need to format answer box to accept all close answers"
   ]
  },
  {
   "cell_type": "code",
   "execution_count": null,
   "id": "52971864",
   "metadata": {},
   "outputs": [],
   "source": []
  }
 ],
 "metadata": {
  "kernelspec": {
   "display_name": "Python 3",
   "language": "python",
   "name": "python3"
  },
  "language_info": {
   "codemirror_mode": {
    "name": "ipython",
    "version": 3
   },
   "file_extension": ".py",
   "mimetype": "text/x-python",
   "name": "python",
   "nbconvert_exporter": "python",
   "pygments_lexer": "ipython3",
   "version": "3.8.10"
  }
 },
 "nbformat": 4,
 "nbformat_minor": 5
}
