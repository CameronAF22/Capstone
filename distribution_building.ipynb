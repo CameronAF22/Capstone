{
 "cells": [
  {
   "cell_type": "markdown",
   "id": "53ec3e33",
   "metadata": {},
   "source": [
    "# Universal Automated Tutor"
   ]
  },
  {
   "cell_type": "markdown",
   "id": "b9635e90",
   "metadata": {},
   "source": [
    "## 0: Data Import + Cleaning"
   ]
  },
  {
   "cell_type": "code",
   "execution_count": 6,
   "id": "4469fccf",
   "metadata": {},
   "outputs": [],
   "source": [
    "import pandas as pd\n",
    "import numpy as np\n",
    "import random"
   ]
  },
  {
   "cell_type": "code",
   "execution_count": 7,
   "id": "775d4def",
   "metadata": {
    "scrolled": true
   },
   "outputs": [
    {
     "name": "stderr",
     "output_type": "stream",
     "text": [
      "C:\\Users\\C22Evan.Marrone\\Anaconda3\\lib\\site-packages\\pandas\\core\\indexing.py:1597: SettingWithCopyWarning: \n",
      "A value is trying to be set on a copy of a slice from a DataFrame.\n",
      "Try using .loc[row_indexer,col_indexer] = value instead\n",
      "\n",
      "See the caveats in the documentation: https://pandas.pydata.org/pandas-docs/stable/user_guide/indexing.html#returning-a-view-versus-a-copy\n",
      "  self.obj[key] = value\n",
      "C:\\Users\\C22Evan.Marrone\\Anaconda3\\lib\\site-packages\\pandas\\core\\indexing.py:1676: SettingWithCopyWarning: \n",
      "A value is trying to be set on a copy of a slice from a DataFrame.\n",
      "Try using .loc[row_indexer,col_indexer] = value instead\n",
      "\n",
      "See the caveats in the documentation: https://pandas.pydata.org/pandas-docs/stable/user_guide/indexing.html#returning-a-view-versus-a-copy\n",
      "  self._setitem_single_column(ilocs[0], value, pi)\n"
     ]
    }
   ],
   "source": [
    "# Read in the CSVs, select variables, combine\n",
    "raw_data04 = pd.read_csv(\"2004-WPI-Assistments-Math.csv\",low_memory=False)\n",
    "raw_data056 = pd.read_csv(\"2005-06-WPI-Assistments-Math.csv\",low_memory=False)\n",
    "raw_data056[\"problem_id\"] = raw_data056[\"problem_id\"] + max(raw_data04.problem_id)\n",
    "raw_data = pd.concat([raw_data056,raw_data04])\n",
    "data = raw_data[[\"stud_id\",\"duration\",\"student_response_type\",\"problem_id\",\"step\",\"attempt_num\",\n",
    "             \"last_attempt\",\"outcome\",\"input\",\"feedback\"]]\n",
    "data.reset_index(drop=True, inplace=True)\n",
    "\n",
    "# Create binary variables for hint, correct, incorrect\n",
    "data.loc[:,\"hint\"] = np.where(data[\"outcome\"] == \"HINT\",1,0)\n",
    "data.loc[:,\"correct\"] = np.where(data[\"outcome\"] == \"CORRECT\",1,0)\n",
    "data.loc[:,\"incorrect\"] = np.where(data[\"outcome\"] == \"INCORRECT\",1,0)\n",
    "\n",
    "# Filter + clean data\n",
    "data = data[data[\"duration\"] != '.']\n",
    "data[\"duration\"] = data[\"duration\"].astype(np.float64)"
   ]
  },
  {
   "cell_type": "code",
   "execution_count": 8,
   "id": "58dd5028",
   "metadata": {},
   "outputs": [],
   "source": [
    "correct = data[data['outcome'] == \"CORRECT\"]\n",
    "uniqueCorrect = correct.drop_duplicates(subset=['problem_id'])\n",
    "pairs = uniqueCorrect[[\"problem_id\",\"input\"]]\n",
    "data = data[data.problem_id.isin(pairs.problem_id)]"
   ]
  },
  {
   "cell_type": "markdown",
   "id": "d6a63ed2",
   "metadata": {},
   "source": [
    "## 1: Distribution Creation"
   ]
  },
  {
   "cell_type": "code",
   "execution_count": 9,
   "id": "af5420ce",
   "metadata": {},
   "outputs": [
    {
     "data": {
      "text/plain": [
       "' Summary or Description of the Function\\n\\n    Parameters:\\n    argument1 (int): Description of arg1\\n\\n    Returns:\\n    int: Returning value\\n'"
      ]
     },
     "execution_count": 9,
     "metadata": {},
     "output_type": "execute_result"
    }
   ],
   "source": [
    "# Docstring Example\n",
    "\n",
    "''' Summary or Description of the Function\n",
    "\n",
    "    Parameters:\n",
    "    argument1 (int): Description of arg1\n",
    "\n",
    "    Returns:\n",
    "    int: Returning value\n",
    "'''"
   ]
  },
  {
   "cell_type": "code",
   "execution_count": 10,
   "id": "590612b8",
   "metadata": {
    "scrolled": true
   },
   "outputs": [],
   "source": [
    "def chi2lower(x):\n",
    "    ''' Calculates the chi-squared distribution lower bound\n",
    "\n",
    "    Parameters:\n",
    "    x (float64): A # of incorrect, # of hints, or a duration\n",
    "\n",
    "    Returns:\n",
    "    float64: Returns the lower bound of the chi-squared distribution\n",
    "    '''\n",
    "    return np.mean(x) - np.std(x)/4\n",
    "\n",
    "\n",
    "def chi2upper(x):\n",
    "    ''' Calculates the chi-squared distribution upper bound\n",
    "\n",
    "    Parameters:\n",
    "    x (float64): A # of incorrect, # of hints, or a duration\n",
    "\n",
    "    Returns:\n",
    "    float64: Returns the upper bound of the chi-squared distribution\n",
    "    '''\n",
    "    return np.mean(x) + np.std(x)/2"
   ]
  },
  {
   "cell_type": "code",
   "execution_count": 11,
   "id": "655151af",
   "metadata": {},
   "outputs": [],
   "source": [
    "# group the problems and students together to get the sum of each variable for each question\n",
    "df = data[[\"problem_id\", \"duration\", \"hint\", \"stud_id\",\"incorrect\"]].groupby([\"problem_id\",\"stud_id\"]).sum()\n",
    "problemDistsLower = df.groupby([\"problem_id\"]).agg(chi2lower)\n",
    "problemDistsUpper = df.groupby([\"problem_id\"]).agg(chi2upper)\n",
    "problemDistsLower.rename(columns={'duration': 'durationLower', 'hint': 'hintLower', 'incorrect': 'incorrectLower'}, inplace=True)\n",
    "problemDistsUpper.rename(columns={'duration': 'durationUpper', 'hint': 'hintUpper', 'incorrect': 'incorrectUpper'}, inplace=True)\n",
    "problemDists = pd.concat([problemDistsLower, problemDistsUpper], axis=1)\n",
    "\n",
    "# Create given student's mean\n",
    "studentEV = df.groupby([\"stud_id\"]).mean()"
   ]
  },
  {
   "cell_type": "markdown",
   "id": "0cc211f7",
   "metadata": {},
   "source": [
    "## 2: Student Class"
   ]
  },
  {
   "cell_type": "code",
   "execution_count": 28,
   "id": "9a956245",
   "metadata": {},
   "outputs": [],
   "source": [
    "class Student:\n",
    "    def __init__(self, data):\n",
    "        self.data = data\n",
    "        self.means = 0\n",
    "        self.problem = \"\"\n",
    "        self.answer = \"\"\n",
    "\n",
    "        \n",
    "    def updateStudent(self, lastQ):\n",
    "        self.data = self.data.append(lastQ)\n",
    "        self.means = self.data.mean()\n",
    "        self.duration = self.means.duration\n",
    "        self.incorrect = self.means.incorrect\n",
    "        self.hint = self.means.hint\n",
    "        \n",
    "    def nextQ(self, groupDf):\n",
    "        # Determines a viable next question\n",
    "        EVdur = self.duration\n",
    "        EVinc = self.incorrect\n",
    "        EVhint = self.hint\n",
    "        viableProbs = problemDists[(EVdur < problemDists[\"durationUpper\"])  & (EVhint < problemDists[\"hintUpper\"]) & \\\n",
    "                                   (problemDists[\"incorrectLower\"] > EVinc)]\n",
    "        problemNum = random.choice(viableProbs.index.values.tolist())\n",
    "        self.problem = groupDf[groupDf[\"problem_id\"]==problemNum].iloc[0][\"step\"].split(':')[-1].split(\"?\")[0] + \"?\"\n",
    "        answer = pairs[pairs[\"problem_id\"]==problemNum].iloc[0][1]\n",
    "        if answer[0] in [\"A\",\"B\",\"C\",\"D\"]:\n",
    "            answer = answer[3:]\n",
    "        self.answer = answer"
   ]
  },
  {
   "cell_type": "markdown",
   "id": "c60c485f",
   "metadata": {},
   "source": [
    "## 3: Example Run Through"
   ]
  },
  {
   "cell_type": "markdown",
   "id": "8c61deca",
   "metadata": {},
   "source": [
    "Pseudo Code\n",
    "studentData = Pretest data\n",
    "Pretest data will include entries with \"step\", \"problem_id\", \"duration\", \"hint\", \"incorrect\", \"correct\"\n",
    "student = Student(studentData)"
   ]
  },
  {
   "cell_type": "code",
   "execution_count": 13,
   "id": "f67ec004",
   "metadata": {},
   "outputs": [
    {
     "data": {
      "text/html": [
       "<div>\n",
       "<style scoped>\n",
       "    .dataframe tbody tr th:only-of-type {\n",
       "        vertical-align: middle;\n",
       "    }\n",
       "\n",
       "    .dataframe tbody tr th {\n",
       "        vertical-align: top;\n",
       "    }\n",
       "\n",
       "    .dataframe thead th {\n",
       "        text-align: right;\n",
       "    }\n",
       "</style>\n",
       "<table border=\"1\" class=\"dataframe\">\n",
       "  <thead>\n",
       "    <tr style=\"text-align: right;\">\n",
       "      <th></th>\n",
       "      <th>step</th>\n",
       "      <th>problem_id</th>\n",
       "      <th>stud_id</th>\n",
       "      <th>duration</th>\n",
       "      <th>hint</th>\n",
       "      <th>incorrect</th>\n",
       "      <th>correct</th>\n",
       "    </tr>\n",
       "  </thead>\n",
       "  <tbody>\n",
       "    <tr>\n",
       "      <th>1266120</th>\n",
       "      <td>Step0:3761:Harry measured all but one angle of...</td>\n",
       "      <td>3761</td>\n",
       "      <td>Stu_fe96fe63d83aa63c4ec667167fc7f1ce</td>\n",
       "      <td>90.0</td>\n",
       "      <td>1</td>\n",
       "      <td>0</td>\n",
       "      <td>0</td>\n",
       "    </tr>\n",
       "    <tr>\n",
       "      <th>1266121</th>\n",
       "      <td>Step1:3762:How many angles are there in a pent...</td>\n",
       "      <td>3761</td>\n",
       "      <td>Stu_fe96fe63d83aa63c4ec667167fc7f1ce</td>\n",
       "      <td>37.0</td>\n",
       "      <td>0</td>\n",
       "      <td>1</td>\n",
       "      <td>0</td>\n",
       "    </tr>\n",
       "    <tr>\n",
       "      <th>1266122</th>\n",
       "      <td>Step1:3762:How many angles are there in a pent...</td>\n",
       "      <td>3761</td>\n",
       "      <td>Stu_fe96fe63d83aa63c4ec667167fc7f1ce</td>\n",
       "      <td>4.0</td>\n",
       "      <td>0</td>\n",
       "      <td>0</td>\n",
       "      <td>1</td>\n",
       "    </tr>\n",
       "    <tr>\n",
       "      <th>1266123</th>\n",
       "      <td>Step0:3761:Harry measured all but one angle of...</td>\n",
       "      <td>3761</td>\n",
       "      <td>Stu_fe96fe63d83aa63c4ec667167fc7f1ce</td>\n",
       "      <td>246.0</td>\n",
       "      <td>1</td>\n",
       "      <td>0</td>\n",
       "      <td>0</td>\n",
       "    </tr>\n",
       "    <tr>\n",
       "      <th>1266124</th>\n",
       "      <td>Step1:3762:How many angles are there in a pent...</td>\n",
       "      <td>3761</td>\n",
       "      <td>Stu_fe96fe63d83aa63c4ec667167fc7f1ce</td>\n",
       "      <td>6.0</td>\n",
       "      <td>0</td>\n",
       "      <td>0</td>\n",
       "      <td>1</td>\n",
       "    </tr>\n",
       "    <tr>\n",
       "      <th>1266125</th>\n",
       "      <td>Step3:3764:What is the measure of the only ang...</td>\n",
       "      <td>3761</td>\n",
       "      <td>Stu_fe96fe63d83aa63c4ec667167fc7f1ce</td>\n",
       "      <td>29.0</td>\n",
       "      <td>0</td>\n",
       "      <td>0</td>\n",
       "      <td>1</td>\n",
       "    </tr>\n",
       "    <tr>\n",
       "      <th>1266126</th>\n",
       "      <td>Step0:193:(0.2)(0.2)(0.2) is equal to which of...</td>\n",
       "      <td>193</td>\n",
       "      <td>Stu_fe96fe63d83aa63c4ec667167fc7f1ce</td>\n",
       "      <td>37.0</td>\n",
       "      <td>0</td>\n",
       "      <td>0</td>\n",
       "      <td>1</td>\n",
       "    </tr>\n",
       "    <tr>\n",
       "      <th>1266127</th>\n",
       "      <td>Step0:113:Figure ABCD is translated so that th...</td>\n",
       "      <td>113</td>\n",
       "      <td>Stu_fe96fe63d83aa63c4ec667167fc7f1ce</td>\n",
       "      <td>65.0</td>\n",
       "      <td>1</td>\n",
       "      <td>0</td>\n",
       "      <td>0</td>\n",
       "    </tr>\n",
       "    <tr>\n",
       "      <th>1266128</th>\n",
       "      <td>Step1:114:Look at the figure above. Let s find...</td>\n",
       "      <td>113</td>\n",
       "      <td>Stu_fe96fe63d83aa63c4ec667167fc7f1ce</td>\n",
       "      <td>88.0</td>\n",
       "      <td>1</td>\n",
       "      <td>0</td>\n",
       "      <td>0</td>\n",
       "    </tr>\n",
       "    <tr>\n",
       "      <th>1266129</th>\n",
       "      <td>Step1:114:Look at the figure above. Let s find...</td>\n",
       "      <td>113</td>\n",
       "      <td>Stu_fe96fe63d83aa63c4ec667167fc7f1ce</td>\n",
       "      <td>21.0</td>\n",
       "      <td>1</td>\n",
       "      <td>0</td>\n",
       "      <td>0</td>\n",
       "    </tr>\n",
       "  </tbody>\n",
       "</table>\n",
       "</div>"
      ],
      "text/plain": [
       "                                                      step  problem_id  \\\n",
       "1266120  Step0:3761:Harry measured all but one angle of...        3761   \n",
       "1266121  Step1:3762:How many angles are there in a pent...        3761   \n",
       "1266122  Step1:3762:How many angles are there in a pent...        3761   \n",
       "1266123  Step0:3761:Harry measured all but one angle of...        3761   \n",
       "1266124  Step1:3762:How many angles are there in a pent...        3761   \n",
       "1266125  Step3:3764:What is the measure of the only ang...        3761   \n",
       "1266126  Step0:193:(0.2)(0.2)(0.2) is equal to which of...         193   \n",
       "1266127  Step0:113:Figure ABCD is translated so that th...         113   \n",
       "1266128  Step1:114:Look at the figure above. Let s find...         113   \n",
       "1266129  Step1:114:Look at the figure above. Let s find...         113   \n",
       "\n",
       "                                      stud_id  duration  hint  incorrect  \\\n",
       "1266120  Stu_fe96fe63d83aa63c4ec667167fc7f1ce      90.0     1          0   \n",
       "1266121  Stu_fe96fe63d83aa63c4ec667167fc7f1ce      37.0     0          1   \n",
       "1266122  Stu_fe96fe63d83aa63c4ec667167fc7f1ce       4.0     0          0   \n",
       "1266123  Stu_fe96fe63d83aa63c4ec667167fc7f1ce     246.0     1          0   \n",
       "1266124  Stu_fe96fe63d83aa63c4ec667167fc7f1ce       6.0     0          0   \n",
       "1266125  Stu_fe96fe63d83aa63c4ec667167fc7f1ce      29.0     0          0   \n",
       "1266126  Stu_fe96fe63d83aa63c4ec667167fc7f1ce      37.0     0          0   \n",
       "1266127  Stu_fe96fe63d83aa63c4ec667167fc7f1ce      65.0     1          0   \n",
       "1266128  Stu_fe96fe63d83aa63c4ec667167fc7f1ce      88.0     1          0   \n",
       "1266129  Stu_fe96fe63d83aa63c4ec667167fc7f1ce      21.0     1          0   \n",
       "\n",
       "         correct  \n",
       "1266120        0  \n",
       "1266121        0  \n",
       "1266122        1  \n",
       "1266123        0  \n",
       "1266124        1  \n",
       "1266125        1  \n",
       "1266126        1  \n",
       "1266127        0  \n",
       "1266128        0  \n",
       "1266129        0  "
      ]
     },
     "execution_count": 13,
     "metadata": {},
     "output_type": "execute_result"
    }
   ],
   "source": [
    "# Example\n",
    "stud = \"Stu_fe96fe63d83aa63c4ec667167fc7f1ce\"\n",
    "df = data[[\"step\", \"problem_id\", \"stud_id\",\"duration\", \"hint\", \"incorrect\", \"correct\"]]\n",
    "newdf = df[df[\"stud_id\"] == stud]\n",
    "studentData = newdf.iloc[0:10,:]\n",
    "\n",
    "studentData"
   ]
  },
  {
   "cell_type": "code",
   "execution_count": 29,
   "id": "908806b0",
   "metadata": {},
   "outputs": [
    {
     "data": {
      "text/html": [
       "<div>\n",
       "<style scoped>\n",
       "    .dataframe tbody tr th:only-of-type {\n",
       "        vertical-align: middle;\n",
       "    }\n",
       "\n",
       "    .dataframe tbody tr th {\n",
       "        vertical-align: top;\n",
       "    }\n",
       "\n",
       "    .dataframe thead th {\n",
       "        text-align: right;\n",
       "    }\n",
       "</style>\n",
       "<table border=\"1\" class=\"dataframe\">\n",
       "  <thead>\n",
       "    <tr style=\"text-align: right;\">\n",
       "      <th></th>\n",
       "      <th>step</th>\n",
       "      <th>problem_id</th>\n",
       "      <th>stud_id</th>\n",
       "      <th>duration</th>\n",
       "      <th>hint</th>\n",
       "      <th>incorrect</th>\n",
       "      <th>correct</th>\n",
       "    </tr>\n",
       "  </thead>\n",
       "  <tbody>\n",
       "    <tr>\n",
       "      <th>1266131</th>\n",
       "      <td>Step1:114:Look at the figure above. Let s find...</td>\n",
       "      <td>113</td>\n",
       "      <td>Stu_fe96fe63d83aa63c4ec667167fc7f1ce</td>\n",
       "      <td>21.0</td>\n",
       "      <td>1</td>\n",
       "      <td>0</td>\n",
       "      <td>0</td>\n",
       "    </tr>\n",
       "    <tr>\n",
       "      <th>1266132</th>\n",
       "      <td>Step1:114:Look at the figure above. Let s find...</td>\n",
       "      <td>113</td>\n",
       "      <td>Stu_fe96fe63d83aa63c4ec667167fc7f1ce</td>\n",
       "      <td>8.0</td>\n",
       "      <td>0</td>\n",
       "      <td>0</td>\n",
       "      <td>1</td>\n",
       "    </tr>\n",
       "  </tbody>\n",
       "</table>\n",
       "</div>"
      ],
      "text/plain": [
       "                                                      step  problem_id  \\\n",
       "1266131  Step1:114:Look at the figure above. Let s find...         113   \n",
       "1266132  Step1:114:Look at the figure above. Let s find...         113   \n",
       "\n",
       "                                      stud_id  duration  hint  incorrect  \\\n",
       "1266131  Stu_fe96fe63d83aa63c4ec667167fc7f1ce      21.0     1          0   \n",
       "1266132  Stu_fe96fe63d83aa63c4ec667167fc7f1ce       8.0     0          0   \n",
       "\n",
       "         correct  \n",
       "1266131        0  \n",
       "1266132        1  "
      ]
     },
     "execution_count": 29,
     "metadata": {},
     "output_type": "execute_result"
    }
   ],
   "source": [
    "# Initializing a student\n",
    "student = Student(studentData)\n",
    "\n",
    "# questionData represents their next action from the GUI (we will be passed this)\n",
    "questionData = newdf.iloc[11:13,:]\n",
    "questionData"
   ]
  },
  {
   "cell_type": "code",
   "execution_count": 31,
   "id": "d313a0f3",
   "metadata": {},
   "outputs": [
    {
     "data": {
      "text/plain": [
       "'Evaluate this expression if m = 5, n = -8, and p = -3. p - m + n?'"
      ]
     },
     "execution_count": 31,
     "metadata": {},
     "output_type": "execute_result"
    }
   ],
   "source": [
    "# Initializing a student\n",
    "student = Student(studentData)\n",
    "\n",
    "# questionData represents their next action from the GUI (we will be passed this)\n",
    "questionData = newdf.iloc[11:13,:]\n",
    "\n",
    "# If the person gets the problem right, then send the questionData to the student to update and choose next Q\n",
    "if questionData.correct.isin([1]).any():\n",
    "    student.updateStudent(questionData)\n",
    "    student.nextQ(data)\n",
    "\n",
    "# Question that is sent to the interface next:\n",
    "student.problem"
   ]
  },
  {
   "cell_type": "code",
   "execution_count": 32,
   "id": "a81faf3f",
   "metadata": {},
   "outputs": [
    {
     "data": {
      "text/plain": [
       "'-16'"
      ]
     },
     "execution_count": 32,
     "metadata": {},
     "output_type": "execute_result"
    }
   ],
   "source": [
    "student.answer"
   ]
  },
  {
   "cell_type": "markdown",
   "id": "38a790fc",
   "metadata": {},
   "source": [
    "# What is left to finish model?"
   ]
  },
  {
   "cell_type": "markdown",
   "id": "d8e4e953",
   "metadata": {},
   "source": [
    "- Need to find correct answers\n",
    "- Need to find images\n",
    "- Need to figure out how to get through steps\n",
    "- Need to format answer box to accept all close answers"
   ]
  },
  {
   "cell_type": "code",
   "execution_count": null,
   "id": "a6f76ae9",
   "metadata": {},
   "outputs": [],
   "source": [
    "correct = data[data['outcome'] == \"CORRECT\"]\n",
    "uniqueCorrect = correct.drop_duplicates(subset=['problem_id'])\n",
    "pairs = uniqueCorrect[[\"problem_id\",\"input\"]]\n",
    "pairs"
   ]
  },
  {
   "cell_type": "code",
   "execution_count": null,
   "id": "2bee57d6",
   "metadata": {},
   "outputs": [],
   "source": [
    "answer = pairs[pairs[\"problem_id\"]==13450][\"input\"]"
   ]
  },
  {
   "cell_type": "code",
   "execution_count": null,
   "id": "c5130978",
   "metadata": {},
   "outputs": [],
   "source": [
    "pairs[pairs[\"problem_id\"]==13450].iloc[0][1]"
   ]
  },
  {
   "cell_type": "code",
   "execution_count": null,
   "id": "a8424638",
   "metadata": {},
   "outputs": [],
   "source": [
    "data1 = data[data.problem_id.isin(pairs.problem_id)]\n",
    "data1"
   ]
  },
  {
   "cell_type": "code",
   "execution_count": null,
   "id": "bc2f7762",
   "metadata": {},
   "outputs": [],
   "source": [
    "g = data[truth_series]\n",
    "g"
   ]
  },
  {
   "cell_type": "code",
   "execution_count": null,
   "id": "0397f864",
   "metadata": {},
   "outputs": [],
   "source": [
    "df[df[\"problem_id\"]==7].step"
   ]
  },
  {
   "cell_type": "code",
   "execution_count": null,
   "id": "f346a690",
   "metadata": {},
   "outputs": [],
   "source": [
    "import sys\n",
    "from time import sleep\n",
    "\n",
    "from PyQt6.uic import loadUi\n",
    "from PyQt6.QtWidgets import QDialog, QApplication\n",
    "from PyQt6 import QtWidgets\n",
    "\n",
    "\n",
    "class QuestionScreen(QDialog):\n",
    "    def __init__(self):\n",
    "        super(QuestionScreen, self).__init__()\n",
    "        loadUi(\"QuestionScreen.ui\", self)\n",
    "        self.QuestionLabel.setText(question)\n",
    "        self.submit.clicked.connect(self.gotoresult)\n",
    "        self.hintButton.clicked.connect(self.showhint)\n",
    "\n",
    "    def gotoresult(self):\n",
    "        questionanswer = \"1\"\n",
    "        useranswer = self.answerBox.text()\n",
    "        # print(useranswer)\n",
    "\n",
    "        # Detect keystroke and remove empty ans text\n",
    "\n",
    "        if useranswer == \"\":\n",
    "            sleep(.1)\n",
    "            self.emptyans.setText(\"Please enter an answer\")\n",
    "        elif useranswer == questionanswer:\n",
    "            sleep(.1)\n",
    "            correct = CorrectScreen()\n",
    "            widget.addWidget(correct)\n",
    "            widget.setCurrentIndex(widget.currentIndex() + 1)\n",
    "        else:\n",
    "            sleep(.1)\n",
    "            wrong = WrongScreen()\n",
    "            widget.addWidget(wrong)\n",
    "            widget.setCurrentIndex(widget.currentIndex() + 1)\n",
    "\n",
    "    def showhint(self):\n",
    "        sleep(.1)\n",
    "        hinttext = \"Here is the hint for this question!\"\n",
    "        self.hintLabel.setText(hinttext)\n",
    "    \n",
    "    def showQuestion(self, question):\n",
    "        sleep(.1)\n",
    "        questiontext = question\n",
    "\n",
    "\n",
    "class WrongScreen(QDialog):\n",
    "    def __init__(self):\n",
    "        super(WrongScreen, self).__init__()\n",
    "        loadUi(\"IncorrectScreen_2.ui\", self)\n",
    "        self.submit.clicked.connect(self.returntoquestion)\n",
    "\n",
    "    def returntoquestion(self):\n",
    "        sleep(.1)\n",
    "        question = QuestionScreen()\n",
    "        widget.addWidget(question)\n",
    "        widget.setCurrentIndex(widget.currentIndex() + 1)\n",
    "\n",
    "class CorrectScreen(QDialog):\n",
    "    def __init__(self):\n",
    "        super(CorrectScreen, self).__init__()\n",
    "        loadUi(\"CorrectScreen_2.ui\", self)\n",
    "        self.submit.clicked.connect(self.returntoquestion)\n",
    "\n",
    "    def returntoquestion(self):\n",
    "        sleep(.1)\n",
    "        question = QuestionScreen()\n",
    "        widget.addWidget(question)\n",
    "        widget.setCurrentIndex(widget.currentIndex() + 1)\n",
    "\n",
    "\n",
    "\n",
    "# main\n",
    "app = QApplication(sys.argv)\n",
    "question = QuestionScreen()\n",
    "widget = QtWidgets.QStackedWidget()\n",
    "widget.addWidget(question)\n",
    "widget.setFixedHeight(300)\n",
    "widget.setFixedWidth(400)\n",
    "widget.show()\n",
    "try:\n",
    "    sys.exit(app.exec())\n",
    "except:\n",
    "    print(\"Exiting\")\n"
   ]
  },
  {
   "cell_type": "code",
   "execution_count": null,
   "id": "6dac91e9",
   "metadata": {},
   "outputs": [],
   "source": []
  },
  {
   "cell_type": "code",
   "execution_count": null,
   "id": "0cdac13d",
   "metadata": {},
   "outputs": [],
   "source": []
  }
 ],
 "metadata": {
  "kernelspec": {
   "display_name": "Python 3",
   "language": "python",
   "name": "python3"
  },
  "language_info": {
   "codemirror_mode": {
    "name": "ipython",
    "version": 3
   },
   "file_extension": ".py",
   "mimetype": "text/x-python",
   "name": "python",
   "nbconvert_exporter": "python",
   "pygments_lexer": "ipython3",
   "version": "3.8.10"
  }
 },
 "nbformat": 4,
 "nbformat_minor": 5
}
