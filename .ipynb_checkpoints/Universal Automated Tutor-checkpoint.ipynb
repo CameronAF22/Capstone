{
 "cells": [
  {
   "cell_type": "markdown",
   "id": "1e036e51",
   "metadata": {},
   "source": [
    "# Universal Automated Tutor\n",
    "\n",
    "#### Given a set of training questions, create a generalizable tutor that should infer a student’s understanding of underlying concepts based on their past performance on previous questions and choose the next training question which will optimize the student’s progression toward proficiency. "
   ]
  },
  {
   "cell_type": "markdown",
   "id": "63261523",
   "metadata": {},
   "source": [
    "# 1. Initializing the model"
   ]
  },
  {
   "cell_type": "markdown",
   "id": "5b5ebece",
   "metadata": {},
   "source": []
  },
  {
   "cell_type": "code",
   "execution_count": null,
   "id": "8b2c64cf",
   "metadata": {},
   "outputs": [],
   "source": [
    "import modelBuilder as mb\n",
    "import random\n",
    "\n",
    "\n",
    "def initialize():\n",
    "    ''' \n",
    "    Initializes the model distributions as well as the current student object\n",
    "\n",
    "    Returns:\n",
    "    student: Student object with important attributes 'data', 'duration', 'hint', 'incorrect', 'answer', and 'problem'\n",
    "    data: Pandas df of all the data from the math data sets\n",
    "    pairs: Pandas df of all the question and answer pairs\n",
    "    distributions: Pandas df of the question distributions\n",
    "'''\n",
    "    data, pairs = mb.importData()\n",
    "    distributions, groupDf = mb.distributionBuilder(data)\n",
    "    studentData = getStudentData(data)\n",
    "    \n",
    "    student = mb.Student(studentData)\n",
    "    \n",
    "    questionData = newdf.iloc[11:13, :]\n",
    "    student.updateStudent(questionData)\n",
    "    student.nextQ(data, pairs, distributions)\n",
    "\n",
    "    return student, data, pairs, distributions"
   ]
  },
  {
   "cell_type": "code",
   "execution_count": 87,
   "id": "dc1a336e",
   "metadata": {},
   "outputs": [
    {
     "name": "stdout",
     "output_type": "stream",
     "text": [
      "21\n"
     ]
    }
   ],
   "source": [
    "import fuzzywuzzy\n",
    "from fuzzywuzzy import fuzz\n",
    "from fuzzywuzzy import process\n",
    "\n",
    "real_ans = 'the height of a ball thrown straight up over time'\n",
    "stud_ans = 'wijuadsjiofvnwavdkm'\n",
    "try:\n",
    "    ans = float(ans)\n",
    "    error = abs(real_ans - stud_ans) / abs(real_ans)\n",
    "    if error < 0.005:\n",
    "        correct = True\n",
    "except:\n",
    "    ratio = fuzz.token_sort_ratio(real_ans.lower().strip(), stud_ans.lower().strip())\n",
    "    if ratio > 75:\n",
    "        correct = True\n",
    "print(ratio)"
   ]
  },
  {
   "cell_type": "code",
   "execution_count": 45,
   "id": "a1604d0f",
   "metadata": {},
   "outputs": [
    {
     "data": {
      "text/plain": [
       "1.0"
      ]
     },
     "execution_count": 45,
     "metadata": {},
     "output_type": "execute_result"
    }
   ],
   "source": [
    "real_ans = '1.1321'\n",
    "stud_ans = '1.1211'\n",
    "try:\n",
    "    ans = round(float(ans),4)\n",
    "except:\n",
    "    ans = ans\n",
    "ans"
   ]
  },
  {
   "cell_type": "code",
   "execution_count": 35,
   "id": "2692d00c",
   "metadata": {},
   "outputs": [
    {
     "data": {
      "text/plain": [
       "1.121421241"
      ]
     },
     "execution_count": 35,
     "metadata": {},
     "output_type": "execute_result"
    }
   ],
   "source": [
    "ans = '1.121421241'\n",
    "float(ans)"
   ]
  },
  {
   "cell_type": "code",
   "execution_count": null,
   "id": "81b50914",
   "metadata": {},
   "outputs": [],
   "source": []
  }
 ],
 "metadata": {
  "kernelspec": {
   "display_name": "Python 3",
   "language": "python",
   "name": "python3"
  },
  "language_info": {
   "codemirror_mode": {
    "name": "ipython",
    "version": 3
   },
   "file_extension": ".py",
   "mimetype": "text/x-python",
   "name": "python",
   "nbconvert_exporter": "python",
   "pygments_lexer": "ipython3",
   "version": "3.8.10"
  }
 },
 "nbformat": 4,
 "nbformat_minor": 5
}
